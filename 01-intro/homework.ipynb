{
 "cells": [
  {
   "cell_type": "code",
   "execution_count": null,
   "id": "f89f5d0f",
   "metadata": {},
   "outputs": [],
   "source": [
    "!pip install requests elasticsearch tqdm tiktoken"
   ]
  },
  {
   "cell_type": "code",
   "execution_count": 37,
   "id": "5c426b92-9abd-4dcd-a4e3-0dc0dc41e58c",
   "metadata": {},
   "outputs": [],
   "source": [
    "import requests \n",
    "import json\n",
    "import os\n",
    "\n",
    "docs_url = 'https://github.com/DataTalksClub/llm-zoomcamp/blob/main/01-intro/documents.json?raw=1'\n",
    "docs_response = requests.get(docs_url)\n",
    "documents_raw = docs_response.json()\n",
    "\n",
    "documents = []\n",
    "\n",
    "for course in documents_raw:\n",
    "    course_name = course['course']\n",
    "\n",
    "    for doc in course['documents']:\n",
    "        doc['course'] = course_name\n",
    "        documents.append(doc)"
   ]
  },
  {
   "cell_type": "code",
   "execution_count": 26,
   "id": "712bb6f0-b555-49f9-8d1b-93105e880fd4",
   "metadata": {},
   "outputs": [],
   "source": [
    "def elasticsearch_search(query, documents, filter_dict, size_answers):\n",
    "    from elasticsearch import Elasticsearch\n",
    "    es_client = Elasticsearch(\"http://localhost:9200\")\n",
    "\n",
    "    index_settings = {\n",
    "        \"settings\": {\n",
    "            \"number_of_shards\": 1,\n",
    "            \"number_of_replicas\": 0\n",
    "        },\n",
    "        \"mappings\": {\n",
    "            \"properties\": {\n",
    "                \"text\": {\"type\": \"text\"},\n",
    "                \"section\": {\"type\": \"text\"},\n",
    "                \"question\": {\"type\": \"text\"},\n",
    "                \"course\": {\"type\": \"keyword\"} \n",
    "            }\n",
    "        }\n",
    "    }\n",
    "\n",
    "    index_name = \"course-homework-01\"\n",
    "\n",
    "    try:\n",
    "        es_client.indices.create(index=index_name, body=index_settings)\n",
    "        from tqdm.auto import tqdm\n",
    "        for doc in tqdm(documents):\n",
    "            es_client.index(index=index_name, document=doc)\n",
    "    except:\n",
    "        print(\"The index is created already\")\n",
    "        \n",
    "\n",
    "    search_query = {\n",
    "        \"size\": size_answers,\n",
    "        \"query\": {\n",
    "            \"bool\": {\n",
    "                \"must\": {\n",
    "                    \"multi_match\": {\n",
    "                        \"query\": query,\n",
    "                        \"fields\": [\"question^4\", \"text\"],\n",
    "                        \"type\": \"best_fields\"\n",
    "                    }\n",
    "                }\n",
    "            }\n",
    "        }\n",
    "    }\n",
    "\n",
    "    search_query[\"query\"][\"bool\"].update(filter_dict)\n",
    "\n",
    "    response = es_client.search(index=index_name, body=search_query)\n",
    "\n",
    "    result_docs = []\n",
    "    for hit in response[\"hits\"][\"hits\"]:\n",
    "        result_docs.append(hit)\n",
    "\n",
    "    return result_docs"
   ]
  },
  {
   "cell_type": "code",
   "execution_count": 27,
   "id": "30082a43",
   "metadata": {},
   "outputs": [
    {
     "name": "stdout",
     "output_type": "stream",
     "text": [
      "The index is created already\n",
      "[84.050095]\n"
     ]
    }
   ],
   "source": [
    "query = \"How do I execute a command in a running docker container?\"\n",
    "filter_dict = {}\n",
    "results = elasticsearch_search(query, documents, filter_dict, 1)\n",
    "print([elem[\"_score\"] for elem in results])"
   ]
  },
  {
   "cell_type": "code",
   "execution_count": 28,
   "id": "f303bf71",
   "metadata": {},
   "outputs": [
    {
     "name": "stdout",
     "output_type": "stream",
     "text": [
      "The index is created already\n",
      "['How do I debug a docker container?', 'How do I copy files from my local machine to docker container?', 'How do I copy files from a different folder into docker container’s working directory?']\n"
     ]
    }
   ],
   "source": [
    "query = \"How do I execute a command in a running docker container?\"\n",
    "filter_dict = {\n",
    "                \"filter\": {\n",
    "                    \"term\": {\n",
    "                        \"course\": \"machine-learning-zoomcamp\"\n",
    "                    }\n",
    "                }\n",
    "            }\n",
    "results = elasticsearch_search(query, documents, filter_dict, 3)\n",
    "print([elem[\"_source\"][\"question\"] for elem in results])"
   ]
  },
  {
   "cell_type": "code",
   "execution_count": 29,
   "id": "f52f9e91",
   "metadata": {},
   "outputs": [],
   "source": [
    "def build_prompt(query, search_results):\n",
    "    context_template = \"\"\"\n",
    "Q: {question}\n",
    "A: {text}\n",
    "\"\"\".strip()\n",
    "\n",
    "    prompt_template = \"\"\"\n",
    "You're a course teaching assistant. Answer the QUESTION based on the CONTEXT from the FAQ database.\n",
    "Use only the facts from the CONTEXT when answering the QUESTION.\n",
    "\n",
    "QUESTION: {question}\n",
    "\n",
    "CONTEXT:\n",
    "{context}\n",
    "\"\"\".strip()\n",
    "    \n",
    "    context = \"\"\n",
    "    \n",
    "    for doc in search_results:\n",
    "        context = context + context_template.format(question =  {doc[\"question\"]}, text = {doc[\"text\"]}) + \"\\n\\n\"\n",
    "    \n",
    "    prompt = prompt_template.format(question=query, context=context).strip()\n",
    "    return prompt"
   ]
  },
  {
   "cell_type": "code",
   "execution_count": 31,
   "id": "5c3fa42f",
   "metadata": {},
   "outputs": [
    {
     "name": "stdout",
     "output_type": "stream",
     "text": [
      "The index is created already\n",
      "1508\n"
     ]
    }
   ],
   "source": [
    "query = \"How do I execute a command in a running docker container?\"\n",
    "filter_dict = {\n",
    "                \"filter\": {\n",
    "                    \"term\": {\n",
    "                        \"course\": \"machine-learning-zoomcamp\"\n",
    "                    }\n",
    "                }\n",
    "            }\n",
    "results = elasticsearch_search(query, documents, filter_dict, 3)\n",
    "search_results = [elem[\"_source\"] for elem in results]\n",
    "prompt = build_prompt(query, search_results)\n",
    "print(len(prompt))\n",
    "\n"
   ]
  },
  {
   "cell_type": "code",
   "execution_count": 36,
   "id": "df3f3968",
   "metadata": {},
   "outputs": [
    {
     "name": "stdout",
     "output_type": "stream",
     "text": [
      "354\n"
     ]
    }
   ],
   "source": [
    "import tiktoken\n",
    "encoding = tiktoken.encoding_for_model(\"gpt-4o\")\n",
    "print(len(encoding.encode(prompt)))"
   ]
  },
  {
   "cell_type": "code",
   "execution_count": 42,
   "id": "d740c3a3",
   "metadata": {},
   "outputs": [],
   "source": [
    "def llm(prompt):\n",
    "\n",
    "    try:\n",
    "        OPENROUTER_API_KEY = os.environ[\"OPENROUTER_API_KEY\"]\n",
    "    except KeyError:\n",
    "        with open(\"../openrouter_api_key.txt\", \"r\") as f:\n",
    "            OPENROUTER_API_KEY = f.read()\n",
    "    response = requests.post(\n",
    "        url=\"https://openrouter.ai/api/v1/chat/completions\",\n",
    "        headers={\n",
    "            \"Authorization\": f\"Bearer {OPENROUTER_API_KEY}\"\n",
    "        },\n",
    "        data=json.dumps({\n",
    "            \"model\": \"google/gemma-7b-it:free\",\n",
    "            \"messages\": [\n",
    "            { \"role\": \"user\", \"content\": prompt }\n",
    "            ]\n",
    "        })\n",
    "        )\n",
    "    \n",
    "    return response.json()[\"choices\"][0][\"message\"][\"content\"].strip()"
   ]
  },
  {
   "cell_type": "code",
   "execution_count": 43,
   "id": "de691e00",
   "metadata": {},
   "outputs": [
    {
     "name": "stdout",
     "output_type": "stream",
     "text": [
      "To execute a command in a running docker container, use the `docker exec -it <container-id> bash` command.\n"
     ]
    }
   ],
   "source": [
    "answer = llm(prompt)\n",
    "print(answer)"
   ]
  },
  {
   "cell_type": "code",
   "execution_count": null,
   "id": "e2bb2e5b",
   "metadata": {},
   "outputs": [],
   "source": []
  }
 ],
 "metadata": {
  "kernelspec": {
   "display_name": "Python 3 (ipykernel)",
   "language": "python",
   "name": "python3"
  },
  "language_info": {
   "codemirror_mode": {
    "name": "ipython",
    "version": 3
   },
   "file_extension": ".py",
   "mimetype": "text/x-python",
   "name": "python",
   "nbconvert_exporter": "python",
   "pygments_lexer": "ipython3",
   "version": "3.10.13"
  }
 },
 "nbformat": 4,
 "nbformat_minor": 5
}
